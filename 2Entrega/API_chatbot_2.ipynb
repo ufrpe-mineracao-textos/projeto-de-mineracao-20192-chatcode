{
  "nbformat": 4,
  "nbformat_minor": 0,
  "metadata": {
    "colab": {
      "name": "API_chatbot_2.ipynb",
      "provenance": []
    },
    "kernelspec": {
      "name": "python3",
      "display_name": "Python 3"
    }
  },
  "cells": [
    {
      "cell_type": "markdown",
      "metadata": {
        "id": "z7xJmxhVTnv5",
        "colab_type": "text"
      },
      "source": [
        "###Downloading API"
      ]
    },
    {
      "cell_type": "code",
      "metadata": {
        "id": "DENM_5uITXC5",
        "colab_type": "code",
        "colab": {}
      },
      "source": [
        "!pip install -q git+git://github.com/gunthercox/ChatterBot.git@master"
      ],
      "execution_count": 0,
      "outputs": []
    },
    {
      "cell_type": "code",
      "metadata": {
        "id": "9YzTHSuOT6Yf",
        "colab_type": "code",
        "colab": {}
      },
      "source": [
        "!pip install -q chatterbot-corpus"
      ],
      "execution_count": 0,
      "outputs": []
    },
    {
      "cell_type": "markdown",
      "metadata": {
        "id": "L8uOcDU1TuPn",
        "colab_type": "text"
      },
      "source": [
        "###Import Modules"
      ]
    },
    {
      "cell_type": "code",
      "metadata": {
        "id": "h20LDtcVTy6u",
        "colab_type": "code",
        "colab": {}
      },
      "source": [
        "from chatterbot import ChatBot\n",
        "from chatterbot.trainers import ChatterBotCorpusTrainer"
      ],
      "execution_count": 0,
      "outputs": []
    },
    {
      "cell_type": "markdown",
      "metadata": {
        "id": "9RxrZDFHUD_m",
        "colab_type": "text"
      },
      "source": [
        "###Chatbot Core"
      ]
    },
    {
      "cell_type": "code",
      "metadata": {
        "id": "SLWsfDGHUGIe",
        "colab_type": "code",
        "colab": {}
      },
      "source": [
        "chatbot = ChatBot(\n",
        "    'Bob the Bot',\n",
        "    preprocessors=[\n",
        "        'chatterbot.preprocessors.clean_whitespace', # remove whitespaces consecutivos\n",
        "        'chatterbot.preprocessors.convert_to_ascii'  # converte de unicode para ascii\n",
        "    ],\n",
        "    logic_adapters=[\n",
        "        \"chatterbot.logic.BestMatch\"\n",
        "    ]\n",
        ")\n",
        "\n",
        "trainer = ChatterBotCorpusTrainer(chatbot)\n",
        "\n",
        "trainer.train(\n",
        "    'chatterbot.corpus.portuguese' #usando o corpus de diálogo em pt-br\n",
        ")"
      ],
      "execution_count": 0,
      "outputs": []
    },
    {
      "cell_type": "markdown",
      "metadata": {
        "id": "pRPlJ3_5UQGl",
        "colab_type": "text"
      },
      "source": [
        "###Terminal for conversation"
      ]
    },
    {
      "cell_type": "code",
      "metadata": {
        "id": "GnfUo0pTUSuv",
        "colab_type": "code",
        "colab": {}
      },
      "source": [
        "while True:\n",
        "    try:\n",
        "        user_input = input()\n",
        "        bot_response = chatbot.get_response(user_input)\n",
        "        print(bot_response)\n",
        "\n",
        "    except (KeyboardInterrupt, EOFError, SystemExit):\n",
        "        break"
      ],
      "execution_count": 0,
      "outputs": []
    }
  ]
}